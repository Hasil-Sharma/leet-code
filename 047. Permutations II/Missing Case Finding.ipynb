{
 "cells": [
  {
   "cell_type": "code",
   "execution_count": 8,
   "metadata": {
    "ExecuteTime": {
     "end_time": "2019-03-11T00:31:27.447111Z",
     "start_time": "2019-03-11T00:31:27.444727Z"
    }
   },
   "outputs": [],
   "source": [
    "from collections import Counter"
   ]
  },
  {
   "cell_type": "code",
   "execution_count": 30,
   "metadata": {
    "ExecuteTime": {
     "end_time": "2019-03-11T00:58:54.053293Z",
     "start_time": "2019-03-11T00:58:54.050124Z"
    }
   },
   "outputs": [],
   "source": [
    "def permuteUnique(nums):\n",
    "    ans = []\n",
    "    nums.sort()\n",
    "    ref = []\n",
    "    gen_perm(nums, ans, 0)\n",
    "    return ans"
   ]
  },
  {
   "cell_type": "code",
   "execution_count": 34,
   "metadata": {
    "ExecuteTime": {
     "end_time": "2019-03-11T00:59:55.350040Z",
     "start_time": "2019-03-11T00:59:55.344940Z"
    }
   },
   "outputs": [],
   "source": [
    "def gen_perm(nums, ans, idx):\n",
    "    if (idx == len(nums)):\n",
    "        st = ','.join(map(str, nums))\n",
    "        ans.append(nums[:])\n",
    "        return st == '1,3,2,0,2,0,1'\n",
    "    \n",
    "    flag = False\n",
    "    for i in range(idx, len(nums)):\n",
    "        st = ''\n",
    "        if (idx != i and (nums[i] == nums[idx] or nums[i] == nums[i-1])):\n",
    "            continue\n",
    "        nums[idx], nums[i] = nums[i], nums[idx]\n",
    "        if gen_perm(nums, ans, idx+1):\n",
    "            flag = True\n",
    "            st = ','.join(map(str, nums))\n",
    "            print (idx, i, st)\n",
    "        nums[idx], nums[i] = nums[i], nums[idx]\n",
    "    \n",
    "    return flag\n",
    "        "
   ]
  },
  {
   "cell_type": "code",
   "execution_count": 32,
   "metadata": {
    "ExecuteTime": {
     "end_time": "2019-03-11T00:58:54.670436Z",
     "start_time": "2019-03-11T00:58:54.667763Z"
    }
   },
   "outputs": [],
   "source": [
    "nums = [1,1,0,0,2,2,3]"
   ]
  },
  {
   "cell_type": "code",
   "execution_count": 35,
   "metadata": {
    "ExecuteTime": {
     "end_time": "2019-03-11T00:59:56.321801Z",
     "start_time": "2019-03-11T00:59:56.311375Z"
    }
   },
   "outputs": [
    {
     "name": "stdout",
     "output_type": "stream",
     "text": [
      "[0, 0, 1, 1, 2, 2, 3]\n",
      "6 6 1,3,2,0,2,0,1\n",
      "5 6 1,3,2,0,2,0,1\n",
      "4 5 1,3,2,0,2,1,0\n",
      "3 4 1,3,2,0,1,2,0\n",
      "6 6 1,3,2,0,2,0,1\n",
      "5 5 1,3,2,0,2,0,1\n",
      "4 5 1,3,2,0,2,0,1\n",
      "3 6 1,3,2,0,0,2,1\n",
      "2 4 1,3,2,1,0,2,0\n",
      "1 6 1,3,0,1,2,2,0\n",
      "0 2 1,0,0,1,2,2,3\n"
     ]
    }
   ],
   "source": [
    "perms = permuteUnique(nums)"
   ]
  },
  {
   "cell_type": "code",
   "execution_count": 11,
   "metadata": {
    "ExecuteTime": {
     "end_time": "2019-03-11T00:32:29.311866Z",
     "start_time": "2019-03-11T00:32:29.307896Z"
    }
   },
   "outputs": [],
   "source": [
    "pp = map(lambda x : ','.join(map(str, x)), perms)\n",
    "perms_counter = Counter(pp)"
   ]
  },
  {
   "cell_type": "markdown",
   "metadata": {},
   "source": [
    "Intermediate sequences need not be sorted "
   ]
  },
  {
   "cell_type": "code",
   "execution_count": 18,
   "metadata": {
    "ExecuteTime": {
     "end_time": "2019-03-11T00:33:08.802616Z",
     "start_time": "2019-03-11T00:33:08.794683Z"
    }
   },
   "outputs": [
    {
     "data": {
      "text/plain": [
       "[('1,3,2,0,2,0,1', 2),\n",
       " ('1,3,2,0,0,1,2', 2),\n",
       " ('3,1,2,0,2,1,0', 2),\n",
       " ('3,2,0,1,2,1,0', 2),\n",
       " ('3,2,1,0,1,0,2', 2),\n",
       " ('2,3,1,0,2,1,0', 2),\n",
       " ('1,2,3,0,1,2,0', 2),\n",
       " ('2,3,0,0,2,1,1', 2),\n",
       " ('1,3,2,0,1,2,0', 2),\n",
       " ('3,2,0,0,1,1,2', 2),\n",
       " ('2,3,1,0,2,0,1', 2),\n",
       " ('3,2,0,1,0,1,2', 2),\n",
       " ('2,3,0,1,1,0,2', 2),\n",
       " ('3,1,2,0,1,2,0', 2),\n",
       " ('3,2,0,0,1,2,1', 2),\n",
       " ('2,3,2,0,1,1,0', 2),\n",
       " ('1,2,3,0,2,1,0', 2),\n",
       " ('2,3,0,0,1,1,2', 2),\n",
       " ('1,2,3,0,0,1,2', 2),\n",
       " ('3,2,0,0,2,1,1', 2),\n",
       " ('3,2,1,0,0,1,2', 2),\n",
       " ('2,1,3,0,2,0,1', 2),\n",
       " ('3,1,2,0,2,0,1', 2),\n",
       " ('2,3,0,2,1,1,0', 2),\n",
       " ('2,3,0,0,1,2,1', 2),\n",
       " ('2,3,0,2,0,1,1', 2),\n",
       " ('1,3,2,0,0,2,1', 2),\n",
       " ('3,2,0,2,1,1,0', 2),\n",
       " ('2,3,1,0,0,1,2', 2),\n",
       " ('3,2,1,0,2,1,0', 2),\n",
       " ('1,2,3,0,2,0,1', 2),\n",
       " ('3,2,0,1,2,0,1', 2),\n",
       " ('1,2,3,0,0,2,1', 2),\n",
       " ('2,3,1,0,0,2,1', 2),\n",
       " ('3,2,1,0,2,0,1', 2),\n",
       " ('2,3,1,0,1,0,2', 2),\n",
       " ('2,3,0,2,1,0,1', 2),\n",
       " ('3,1,2,0,1,0,2', 2),\n",
       " ('2,3,0,1,0,2,1', 2),\n",
       " ('3,2,1,0,0,2,1', 2),\n",
       " ('2,3,2,0,0,1,1', 2),\n",
       " ('2,3,2,0,1,0,1', 2),\n",
       " ('2,3,0,1,0,1,2', 2),\n",
       " ('3,2,2,0,1,0,1', 2),\n",
       " ('2,1,3,0,0,2,1', 2),\n",
       " ('1,3,2,0,2,1,0', 2),\n",
       " ('2,1,3,0,0,1,2', 2),\n",
       " ('2,3,0,1,2,0,1', 2),\n",
       " ('3,2,0,1,1,2,0', 2),\n",
       " ('3,2,0,2,1,0,1', 2),\n",
       " ('2,3,0,1,2,1,0', 2),\n",
       " ('3,2,2,0,0,1,1', 2),\n",
       " ('2,1,3,0,1,2,0', 2),\n",
       " ('2,1,3,0,2,1,0', 2),\n",
       " ('3,1,2,0,0,2,1', 2),\n",
       " ('3,2,0,1,1,0,2', 2),\n",
       " ('3,2,0,2,0,1,1', 2),\n",
       " ('2,3,1,0,1,2,0', 2),\n",
       " ('2,3,0,1,1,2,0', 2),\n",
       " ('3,2,1,0,1,2,0', 2),\n",
       " ('1,3,2,0,1,0,2', 2),\n",
       " ('3,1,2,0,0,1,2', 2),\n",
       " ('3,2,0,1,0,2,1', 2),\n",
       " ('2,1,3,0,1,0,2', 2),\n",
       " ('1,2,3,0,1,0,2', 2),\n",
       " ('3,2,2,0,1,1,0', 2),\n",
       " ('2,2,1,0,0,1,3', 1),\n",
       " ('1,0,2,3,0,2,1', 1),\n",
       " ('1,2,2,1,0,0,3', 1),\n",
       " ('0,2,1,3,1,2,0', 1)]"
      ]
     },
     "execution_count": 18,
     "metadata": {},
     "output_type": "execute_result"
    }
   ],
   "source": [
    "perms_counter.most_common(70)"
   ]
  },
  {
   "cell_type": "code",
   "execution_count": null,
   "metadata": {},
   "outputs": [],
   "source": []
  }
 ],
 "metadata": {
  "kernelspec": {
   "display_name": "Python [default]",
   "language": "python",
   "name": "python3"
  },
  "language_info": {
   "codemirror_mode": {
    "name": "ipython",
    "version": 3
   },
   "file_extension": ".py",
   "mimetype": "text/x-python",
   "name": "python",
   "nbconvert_exporter": "python",
   "pygments_lexer": "ipython3",
   "version": "3.5.6"
  }
 },
 "nbformat": 4,
 "nbformat_minor": 2
}
